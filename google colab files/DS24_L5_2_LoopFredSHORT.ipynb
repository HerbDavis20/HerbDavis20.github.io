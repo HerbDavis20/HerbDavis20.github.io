{
 "cells": [
  {
   "cell_type": "code",
   "execution_count": 4,
   "metadata": {
    "colab": {
     "base_uri": "https://localhost:8080/",
     "height": 17
    },
    "executionInfo": {
     "elapsed": 672,
     "status": "ok",
     "timestamp": 1666994216492,
     "user": {
      "displayName": "Richard Davies",
      "userId": "12513213665615275837"
     },
     "user_tz": -60
    },
    "id": "MtDVgfR_ZfQY",
    "outputId": "d06d3299-6021-4404-b631-60b2afaba1b0"
   },
   "outputs": [
    {
     "ename": "NameError",
     "evalue": "name 'files' is not defined",
     "output_type": "error",
     "traceback": [
      "\u001b[1;31m---------------------------------------------------------------------------\u001b[0m",
      "\u001b[1;31mNameError\u001b[0m                                 Traceback (most recent call last)",
      "Cell \u001b[1;32mIn[4], line 16\u001b[0m\n\u001b[0;32m     14\u001b[0m \u001b[38;5;28;01mwith\u001b[39;00m \u001b[38;5;28mopen\u001b[39m(fileName, \u001b[38;5;124m'\u001b[39m\u001b[38;5;124mw\u001b[39m\u001b[38;5;124m'\u001b[39m, encoding\u001b[38;5;241m=\u001b[39m\u001b[38;5;124m'\u001b[39m\u001b[38;5;124mutf-8\u001b[39m\u001b[38;5;124m'\u001b[39m) \u001b[38;5;28;01mas\u001b[39;00m f:\n\u001b[0;32m     15\u001b[0m   json\u001b[38;5;241m.\u001b[39mdump(data, f, ensure_ascii\u001b[38;5;241m=\u001b[39m\u001b[38;5;28;01mFalse\u001b[39;00m, indent\u001b[38;5;241m=\u001b[39m\u001b[38;5;241m4\u001b[39m) \u001b[38;5;66;03m# open data into Colab\u001b[39;00m\n\u001b[1;32m---> 16\u001b[0m \u001b[43mfiles\u001b[49m\u001b[38;5;241m.\u001b[39mdownload(fileName) \u001b[38;5;66;03m# download to my machine.\u001b[39;00m\n",
      "\u001b[1;31mNameError\u001b[0m: name 'files' is not defined"
     ]
    }
   ],
   "source": [
    "# // FRED DOWNLOADER\n",
    "import requests\n",
    "import json\n",
    "\n",
    "\n",
    "url_base = \"https://api.stlouisfed.org/fred/series/observations?series_id={}&api_key=22ee7a76e736e32f54f5df0a7171538d&file_type=json\"\n",
    "file_base = \"data_US_FRED-{}.json\"\n",
    "fredSeries = ['PCEPI', 'CPIAUCSL', 'GDPC1', 'OPHNFB', 'USSTHPI']\n",
    "\n",
    "for i in fredSeries:\n",
    "   URL = url_base.format(i) # update URL\n",
    "   data = requests.get(URL).json() # get data\n",
    "   fileName = file_base.format(i) # update filename\n",
    "   with open(fileName, 'w', encoding='utf-8') as f:\n",
    "     json.dump(data, f, ensure_ascii=False, indent=4) # open data into Colab\n",
    "   files.download(fileName) # download to my machine."
   ]
  }
 ],
 "metadata": {
  "colab": {
   "authorship_tag": "ABX9TyP/tPFD1fGj6zYqeQ6x0Kb6",
   "provenance": []
  },
  "kernelspec": {
   "display_name": "Python 3",
   "name": "python3"
  },
  "language_info": {
   "codemirror_mode": {
    "name": "ipython",
    "version": 3
   },
   "file_extension": ".py",
   "mimetype": "text/x-python",
   "name": "python",
   "nbconvert_exporter": "python",
   "pygments_lexer": "ipython3",
   "version": "3.11.9"
  }
 },
 "nbformat": 4,
 "nbformat_minor": 0
}
