{
 "cells": [
  {
   "cell_type": "code",
   "execution_count": 2,
   "metadata": {},
   "outputs": [],
   "source": [
    "import requests\n",
    "import json\n",
    "import altair as alt"
   ]
  },
  {
   "cell_type": "code",
   "execution_count": null,
   "metadata": {},
   "outputs": [
    {
     "name": "stdout",
     "output_type": "stream",
     "text": [
      "GDP\n",
      "https://api.stlouisfed.org/fred/series/observations?series_id=GDP&api_key=22ee7a76e736e32f54f5df0a7171538d&file_type=json\n",
      "\n",
      "\n",
      "PCEPI\n",
      "https://api.stlouisfed.org/fred/series/observations?series_id=PCEPI&api_key=22ee7a76e736e32f54f5df0a7171538d&file_type=json\n",
      "\n",
      "\n",
      "CPIAUCSL\n",
      "https://api.stlouisfed.org/fred/series/observations?series_id=CPIAUCSL&api_key=22ee7a76e736e32f54f5df0a7171538d&file_type=json\n",
      "\n",
      "\n",
      "PAYEMS\n",
      "https://api.stlouisfed.org/fred/series/observations?series_id=PAYEMS&api_key=22ee7a76e736e32f54f5df0a7171538d&file_type=json\n",
      "\n",
      "\n",
      "DGS10\n",
      "https://api.stlouisfed.org/fred/series/observations?series_id=DGS10&api_key=22ee7a76e736e32f54f5df0a7171538d&file_type=json\n",
      "\n",
      "\n",
      "INDPRO\n",
      "https://api.stlouisfed.org/fred/series/observations?series_id=INDPRO&api_key=22ee7a76e736e32f54f5df0a7171538d&file_type=json\n",
      "\n",
      "\n",
      "UNRATE\n",
      "https://api.stlouisfed.org/fred/series/observations?series_id=UNRATE&api_key=22ee7a76e736e32f54f5df0a7171538d&file_type=json\n",
      "\n",
      "\n"
     ]
    }
   ],
   "source": [
    "# Write out my list of series:\n",
    "fred_series = ['GDP', 'PCEPI', 'CPIAUCSL', 'PAYEMS', 'DGS10', 'INDPRO', 'UNRATE']\n",
    "\n",
    "# // Set the base url:\n",
    "url_base = \"https://api.stlouisfed.org/fred/series/observations?series_id={}&api_key=22ee7a76e736e32f54f5df0a7171538d&file_type=json\"\n",
    "\n",
    "for i in fred_series:\n",
    "  # Print the series code we're about to download.\n",
    "  print(i)\n",
    "\n",
    "  # Build the URL for this iteration of the loop, and check what we are getting:\n",
    "  URL = url_base.format(i)\n",
    "  print(URL)\n",
    "\n",
    "  # Add some white space to our output. (This is purely so we can see what is happening below clearly)\n",
    "  print(\"\\n\")"
   ]
  },
  {
   "cell_type": "code",
   "execution_count": null,
   "metadata": {},
   "outputs": [],
   "source": []
  }
 ],
 "metadata": {
  "kernelspec": {
   "display_name": "Python 3",
   "language": "python",
   "name": "python3"
  },
  "language_info": {
   "codemirror_mode": {
    "name": "ipython",
    "version": 3
   },
   "file_extension": ".py",
   "mimetype": "text/x-python",
   "name": "python",
   "nbconvert_exporter": "python",
   "pygments_lexer": "ipython3",
   "version": "3.11.9"
  }
 },
 "nbformat": 4,
 "nbformat_minor": 2
}
